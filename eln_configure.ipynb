{
 "cells": [
  {
   "cell_type": "code",
   "execution_count": null,
   "id": "realistic-plant",
   "metadata": {},
   "outputs": [],
   "source": [
    "%%javascript\n",
    "IPython.OutputArea.prototype._should_scroll = function(lines) {\n",
    "    return false;\n",
    "}"
   ]
  },
  {
   "cell_type": "code",
   "execution_count": null,
   "id": "celtic-norwegian",
   "metadata": {},
   "outputs": [],
   "source": [
    "from aiidalab_widgets_base import ElnConfigureWidget"
   ]
  },
  {
   "cell_type": "markdown",
   "id": "understanding-authority",
   "metadata": {},
   "source": [
    "# Configure ELN."
   ]
  },
  {
   "cell_type": "code",
   "execution_count": null,
   "id": "humanitarian-editing",
   "metadata": {},
   "outputs": [],
   "source": [
    "display(ElnConfigureWidget())"
   ]
  }
 ],
 "metadata": {
  "kernelspec": {
   "display_name": "Python 3",
   "language": "python",
   "name": "python3"
  },
  "language_info": {
   "codemirror_mode": {
    "name": "ipython",
    "version": 3
   },
   "file_extension": ".py",
   "mimetype": "text/x-python",
   "name": "python",
   "nbconvert_exporter": "python",
   "pygments_lexer": "ipython3",
   "version": "3.7.4"
  }
 },
 "nbformat": 4,
 "nbformat_minor": 5
}
