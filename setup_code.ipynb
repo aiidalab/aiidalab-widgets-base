{
 "cells": [
  {
   "cell_type": "markdown",
   "metadata": {},
   "source": [
    "# Setup code:"
   ]
  },
  {
   "cell_type": "code",
   "execution_count": null,
   "metadata": {},
   "outputs": [],
   "source": [
    "from traitlets import dlink\n",
    "import ipywidgets as ipw\n",
    "import urllib.parse as urlparse\n",
    "from aiidalab_widgets_base import AiiDACodeSetup, CodeDatabaseWidget"
   ]
  },
  {
   "cell_type": "code",
   "execution_count": null,
   "metadata": {},
   "outputs": [],
   "source": [
    "database_connected = False\n",
    "def connect_database(_=None):\n",
    "    global database_connected\n",
    "    if database_connected:\n",
    "        return\n",
    "    dlink((database, 'label'), (aiidacode, 'label'))\n",
    "    dlink((database, 'description'), (aiidacode, 'description'))\n",
    "    dlink((database, 'input_plugin'), (aiidacode, 'input_plugin'))\n",
    "    dlink((database, 'remote_abs_path'), (aiidacode, 'remote_abs_path'))\n",
    "    dlink((database, 'computer'), (aiidacode, 'computer'))\n",
    "    dlink((database, 'prepend_text'), (aiidacode, 'prepend_text'))\n",
    "    dlink((database, 'append_text'), (aiidacode, 'append_text'))\n",
    "\n",
    "    database_connected = True\n",
    "\n",
    "database = CodeDatabaseWidget()\n",
    "database.update_btn.on_click(connect_database)\n",
    "database_accordion = ipw.Accordion(children=[database], selected_index=None)\n",
    "database_accordion.set_title(0, 'Code database')\n",
    "display(database_accordion)"
   ]
  },
  {
   "cell_type": "code",
   "execution_count": null,
   "metadata": {},
   "outputs": [],
   "source": [
    "parsed_url = urlparse.parse_qs(urlparse.urlsplit(jupyter_notebook_url).query)\n",
    "args = {}\n",
    "for key, value in parsed_url.items():\n",
    "    args[key] = '\\n'.join(value) if isinstance(value,(tuple,list)) else value"
   ]
  },
  {
   "cell_type": "code",
   "execution_count": null,
   "metadata": {},
   "outputs": [],
   "source": [
    "aiidacode = AiiDACodeSetup(**args)\n",
    "display(aiidacode)"
   ]
  }
 ],
 "metadata": {
  "kernelspec": {
   "display_name": "Python 3",
   "language": "python",
   "name": "python3"
  },
  "language_info": {
   "codemirror_mode": {
    "name": "ipython",
    "version": 3
   },
   "file_extension": ".py",
   "mimetype": "text/x-python",
   "name": "python",
   "nbconvert_exporter": "python",
   "pygments_lexer": "ipython3",
   "version": "3.7.4"
  }
 },
 "nbformat": 4,
 "nbformat_minor": 2
}
