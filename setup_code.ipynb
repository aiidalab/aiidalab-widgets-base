{
 "cells": [
  {
   "cell_type": "markdown",
   "metadata": {},
   "source": [
    "# Setup codes"
   ]
  },
  {
   "cell_type": "code",
   "execution_count": null,
   "metadata": {},
   "outputs": [],
   "source": [
    "from __future__ import print_function\n",
    "\n",
    "from aiida import load_dbenv, is_dbenv_loaded\n",
    "from aiida.backends import settings\n",
    "if not is_dbenv_loaded():\n",
    "    load_dbenv(profile=settings.AIIDADB_PROFILE)\n",
    "\n",
    "from aiida.orm.querybuilder import QueryBuilder\n",
    "from aiida.orm import load_node, Code, Computer\n",
    "from aiida.common.exceptions import NotExistent\n",
    "from aiida.backends.utils import get_automatic_user, get_backend_type\n",
    "\n",
    "\n",
    "import ipywidgets as ipw\n",
    "from IPython.display import display, clear_output\n",
    "\n",
    "from subprocess import check_call, check_output, call\n",
    "from os import path\n",
    "import re\n",
    "import pexpect"
   ]
  },
  {
   "cell_type": "code",
   "execution_count": null,
   "metadata": {},
   "outputs": [],
   "source": [
    "layout = ipw.Layout(width=\"400px\")\n",
    "style = {\"description_width\":\"150px\"}"
   ]
  },
  {
   "cell_type": "code",
   "execution_count": null,
   "metadata": {},
   "outputs": [],
   "source": [
    "q = QueryBuilder()\n",
    "q.append(Computer)\n",
    "computers = [(sublist[0].name, sublist[0].name) for sublist in q.all() ]\n",
    "computers.insert(0,('select', None))"
   ]
  },
  {
   "cell_type": "code",
   "execution_count": null,
   "metadata": {},
   "outputs": [],
   "source": [
    "drop_computer = ipw.Dropdown(description=\"Select Computer:\", options=computers, style=style, layout=layout )\n",
    "display(drop_computer)"
   ]
  },
  {
   "cell_type": "code",
   "execution_count": null,
   "metadata": {},
   "outputs": [],
   "source": [
    "def setup_codes(computer_name, partition):\n",
    "    computer = Computer.get(computer_name)\n",
    "    \n",
    "    qe_path = \"/ssoft/spack/cornalin/v1/opt/spack/linux-rhel7-x86_E5v2_IntelIB/intel-17.0.2/espresso-6.1.0-qmy7wm3lqqyphqouvajxjzqbetoopakn/bin/\"\n",
    "    \n",
    "    qe_version = \"6.1\"\n",
    "    for codename in ['pw', 'ph', 'pp', 'projwfc', 'matdyn', 'q2r']:\n",
    "        # QuantumESPRESSO code\n",
    "        code = Code(remote_computer_exec=(computer, qe_path + \"{}.x\".format(codename)))\n",
    "        code.label = \"{}-{}\".format(codename, qe_version)\n",
    "        code.description = \"Quantum ESPRESSO {}.x\".format(codename)\n",
    "        code.set_input_plugin_name(\"quantumespresso.{}\".format(qe_version))\n",
    "        prepend_text  = \"### code prepend_text start ###\\n\"\n",
    "        prepend_text += \"\"\"module load intel\n",
    "module load intel-mpi\n",
    "module load intel-mkl\n",
    "module load espresso/6.1.0-mpi\n",
    "\"\"\"\n",
    "        prepend_text += \"### code prepend_text end ###\\n\"\n",
    "        code.set_prepend_text(prepend_text)\n",
    "        code.set_append_text(\"\")\n",
    "        code.store()\n",
    "        code._reveal()\n",
    "        full_string = \"{}-{}@{}\".format(codename, qe_version, computer_name)\n",
    "        ! verdi code show \"{full_string}\""
   ]
  },
  {
   "cell_type": "code",
   "execution_count": null,
   "metadata": {},
   "outputs": [],
   "source": [
    "def on_setup_codes(b):\n",
    "    with setup_code_out:\n",
    "        clear_output()\n",
    "        partition = drop_computer.value\n",
    "        if drop_computer.value is not None:\n",
    "            setup_codes(drop_computer.value, partition)\n",
    "        else:\n",
    "            print (\"You did not specify the computer name\")\n",
    "\n",
    "setup_code_out = ipw.Output()\n",
    "btn_setup_codes = ipw.Button(description=\"Setup Codes\")\n",
    "btn_setup_codes.on_click(on_setup_codes)\n",
    "display(btn_setup_codes, setup_code_out)"
   ]
  }
 ],
 "metadata": {
  "kernelspec": {
   "display_name": "Python 2",
   "language": "python",
   "name": "python2"
  },
  "language_info": {
   "codemirror_mode": {
    "name": "ipython",
    "version": 2
   },
   "file_extension": ".py",
   "mimetype": "text/x-python",
   "name": "python",
   "nbconvert_exporter": "python",
   "pygments_lexer": "ipython2",
   "version": "2.7.14"
  }
 },
 "nbformat": 4,
 "nbformat_minor": 2
}
