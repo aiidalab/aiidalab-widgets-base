{
 "cells": [
  {
   "cell_type": "code",
   "execution_count": null,
   "metadata": {
    "scrolled": false
   },
   "outputs": [],
   "source": [
    "from aiidalab_widgets_base import StructureUploadWidget, CodQueryWidget, StructureBrowserWidget, SmilesWidget\n",
    "widget = StructureUploadWidget(examples=[(\"Silicon oxide\", 'miscellaneous/structures/SiO2.xyz')],\n",
    "                               data_importers=[(\"COD\", CodQueryWidget()),\n",
    "                                               (\"AiiDA database\", StructureBrowserWidget()),\n",
    "                                               (\"SMILES\", SmilesWidget()),\n",
    "                                              ])\n",
    "# widget = StructureUploadWidget()\n",
    "# Enforce node format to be CifData:\n",
    "# widget = StructureUploadWidget(node_class='CifData')\n",
    "display(widget)"
   ]
  }
 ],
 "metadata": {
  "kernelspec": {
   "display_name": "Python 3",
   "language": "python",
   "name": "python3"
  },
  "language_info": {
   "codemirror_mode": {
    "name": "ipython",
    "version": 3
   },
   "file_extension": ".py",
   "mimetype": "text/x-python",
   "name": "python",
   "nbconvert_exporter": "python",
   "pygments_lexer": "ipython3",
   "version": "3.6.8"
  }
 },
 "nbformat": 4,
 "nbformat_minor": 2
}
