{
 "cells": [
  {
   "cell_type": "markdown",
   "metadata": {},
   "source": [
    "# Setup a computer with AiiDA "
   ]
  },
  {
   "cell_type": "code",
   "execution_count": null,
   "metadata": {},
   "outputs": [],
   "source": [
    "import urlparse\n",
    "\n",
    "from aiidalab_widgets_base import SshComputerSetup, extract_sshcomputersetup_arguments\n",
    "from aiidalab_widgets_base import AiidaComputerSetup, extract_aiidacomputer_arguments"
   ]
  },
  {
   "cell_type": "code",
   "execution_count": null,
   "metadata": {},
   "outputs": [],
   "source": [
    "parsed_url = urlparse.parse_qs(urlparse.urlsplit(jupyter_notebook_url).query)"
   ]
  },
  {
   "cell_type": "markdown",
   "metadata": {},
   "source": [
    "## Step 1: Setup ssh\n",
    "Note: The password is used only to set up the ssh connection and is never stored."
   ]
  },
  {
   "cell_type": "code",
   "execution_count": null,
   "metadata": {},
   "outputs": [],
   "source": [
    "args =  extract_sshcomputersetup_arguments(parsed_url)\n",
    "sshcomputer = SshComputerSetup(**args)\n",
    "display(sshcomputer)"
   ]
  },
  {
   "cell_type": "markdown",
   "metadata": {},
   "source": [
    "## Step 2: Setup & Test AiiDA Computer"
   ]
  },
  {
   "cell_type": "code",
   "execution_count": null,
   "metadata": {},
   "outputs": [],
   "source": [
    "args =  extract_aiidacomputer_arguments(parsed_url)\n",
    "aiidacomputer = AiidaComputerSetup(**args)\n",
    "sshcomputer.observe(aiidacomputer.get_available_computers, names=['setup_counter'])\n",
    "display(aiidacomputer)"
   ]
  }
 ],
 "metadata": {
  "kernelspec": {
   "display_name": "Python 2",
   "language": "python",
   "name": "python2"
  },
  "language_info": {
   "codemirror_mode": {
    "name": "ipython",
    "version": 2
   },
   "file_extension": ".py",
   "mimetype": "text/x-python",
   "name": "python",
   "nbconvert_exporter": "python",
   "pygments_lexer": "ipython2",
   "version": "2.7.15rc1"
  }
 },
 "nbformat": 4,
 "nbformat_minor": 2
}
