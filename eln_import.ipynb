{
 "cells": [
  {
   "cell_type": "code",
   "execution_count": null,
   "id": "celtic-norwegian",
   "metadata": {},
   "outputs": [],
   "source": [
    "from aiidalab_widgets_base.elns import ElnImportWidget, DisplayAiidaObject, OpenInApp\n",
    "import urllib.parse as urlparse\n",
    "from aiidalab_widgets_base import viewer\n",
    "from traitlets import dlink"
   ]
  },
  {
   "cell_type": "code",
   "execution_count": null,
   "id": "through-delay",
   "metadata": {},
   "outputs": [],
   "source": [
    "url = urlparse.urlsplit(jupyter_notebook_url)\n",
    "parsed_url = urlparse.parse_qs(url.query)\n",
    "try:\n",
    "    eln_instance = parsed_url[\"instance\"][0]\n",
    "    sample_uuid = parsed_url[\"sample_uuid\"][0]\n",
    "    sample_token =  parsed_url[\"sample_token\"][0]\n",
    "    spectrum_type = parsed_url[\"spectrum_type\"][0]\n",
    "    file_name = parsed_url[\"name\"][0]\n",
    "    import_widget = ElnImportWidget(parsed_url=parsed_url, eln_instance=eln_instance, sample_token=sample_token,\n",
    "                                sample_uuid=sample_uuid, spectrum_type=spectrum_type, file_name=file_name)\n",
    "except KeyError:\n",
    "    import_widget = ElnImportWidget()"
   ]
  },
  {
   "cell_type": "code",
   "execution_count": null,
   "id": "worse-elevation",
   "metadata": {},
   "outputs": [],
   "source": [
    "object_displayed = DisplayAiidaObject()\n",
    "\n",
    "open_in_app = OpenInApp()\n",
    "\n",
    "_ = dlink((import_widget, 'node'), (object_displayed, 'node'))\n",
    "_ = dlink((import_widget, 'node'), (open_in_app, 'node'))"
   ]
  },
  {
   "cell_type": "markdown",
   "id": "understanding-authority",
   "metadata": {},
   "source": [
    "# Selected object:"
   ]
  },
  {
   "cell_type": "code",
   "execution_count": null,
   "id": "humanitarian-editing",
   "metadata": {},
   "outputs": [],
   "source": [
    "display(object_displayed)"
   ]
  },
  {
   "cell_type": "markdown",
   "id": "center-pound",
   "metadata": {},
   "source": [
    "# What's next?"
   ]
  },
  {
   "cell_type": "code",
   "execution_count": null,
   "id": "portable-cyprus",
   "metadata": {},
   "outputs": [],
   "source": [
    "display(open_in_app)"
   ]
  }
 ],
 "metadata": {
  "kernelspec": {
   "display_name": "Python 3",
   "language": "python",
   "name": "python3"
  },
  "language_info": {
   "codemirror_mode": {
    "name": "ipython",
    "version": 3
   },
   "file_extension": ".py",
   "mimetype": "text/x-python",
   "name": "python",
   "nbconvert_exporter": "python",
   "pygments_lexer": "ipython3",
   "version": "3.7.4"
  }
 },
 "nbformat": 4,
 "nbformat_minor": 5
}
