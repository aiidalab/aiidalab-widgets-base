{
 "cells": [
  {
   "cell_type": "code",
   "execution_count": null,
   "metadata": {},
   "outputs": [],
   "source": [
    "%%javascript\n",
    "\n",
    "IPython.OutputArea.prototype._should_scroll = function(lines) {\n",
    "    return false;\n",
    "}"
   ]
  },
  {
   "cell_type": "code",
   "execution_count": null,
   "metadata": {},
   "outputs": [],
   "source": [
    "%aiida\n",
    "import ipywidgets as ipw\n",
    "from IPython.display import clear_output\n",
    "from aiida.cmdline.utils.ascii_vis import format_call_graph\n",
    "import urllib.parse as urlparse\n",
    "from aiidalab_widgets_base import ProcessFollowerWidget, ProgressBarWidget, viewer"
   ]
  },
  {
   "cell_type": "code",
   "execution_count": null,
   "metadata": {},
   "outputs": [],
   "source": [
    "url = urlparse.urlsplit(jupyter_notebook_url)\n",
    "pk = urlparse.parse_qs(url.query)['id'][0]\n",
    "process = load_node(pk)"
   ]
  },
  {
   "cell_type": "markdown",
   "metadata": {},
   "source": [
    "## Process inputs."
   ]
  },
  {
   "cell_type": "code",
   "execution_count": null,
   "metadata": {},
   "outputs": [],
   "source": [
    "in_output = ipw.Output()\n",
    "inp_info = ipw.HTML()\n",
    "def view_input(change=None):\n",
    "    with in_output:\n",
    "        inp_info.value = ''\n",
    "        clear_output()\n",
    "        if inpts.value:\n",
    "            to_dislpay = process.inputs[inpts.value]\n",
    "            inp_info.value = \"PK: {}\".format(to_dislpay.id)\n",
    "            display(viewer(to_dislpay))\n",
    "        \n",
    "        \n",
    "inpts = ipw.Dropdown(\n",
    "    options=[('Select input', '')] + [(l.title(), l) for l in process.inputs],\n",
    "    description='Select input:',\n",
    "    style={'description_width': 'initial'},\n",
    "    disabled=False,\n",
    ")\n",
    "inpts.observe(view_input, names='value')\n",
    "display(ipw.HBox([inpts, inp_info]), in_output)"
   ]
  },
  {
   "cell_type": "markdown",
   "metadata": {},
   "source": [
    "## Process outputs."
   ]
  },
  {
   "cell_type": "code",
   "execution_count": null,
   "metadata": {},
   "outputs": [],
   "source": [
    "out_output = ipw.Output()\n",
    "out_info = ipw.HTML()\n",
    "def view_output(change=None):\n",
    "    with out_output:\n",
    "        clear_output()\n",
    "        out_info.value = ''\n",
    "        if outpts.value:\n",
    "            to_dislpay = process.outputs[outpts.value]\n",
    "            out_info.value = \"PK: {}\".format(to_dislpay.id)\n",
    "            display(viewer(to_dislpay))\n",
    "        \n",
    "outpts = ipw.Dropdown(\n",
    "    options= [('Select output', '')] + [ (l.title(), l) for l in process.outputs],\n",
    "#    value='Select output',\n",
    "    description='Select outputs:',\n",
    "    style={'description_width': 'initial'},\n",
    "    disabled=False,\n",
    ")\n",
    "outpts.observe(view_output, names='value')\n",
    "display(ipw.HBox([outpts, out_info]), out_output)"
   ]
  },
  {
   "cell_type": "code",
   "execution_count": null,
   "metadata": {},
   "outputs": [],
   "source": [
    "def calc_info(node):\n",
    "    \"\"\"Return a string with the summary of the state of a CalculationNode.\"\"\"\n",
    "    from aiida.orm import ProcessNode, WorkChainNode\n",
    "\n",
    "    if not isinstance(node, ProcessNode):\n",
    "        raise TypeError('Unknown type: {}'.format(type(node)))\n",
    "\n",
    "    process_label = node.process_label\n",
    "    process_state = node.process_state.value.capitalize()\n",
    "    exit_status = node.exit_status\n",
    "    path_to_root = '../'\n",
    "    pk = \"\"\"<a#space#href={0}aiidalab-widgets-base/process.ipynb?id={1}#space#target=\"_blank\">{1}</a>\"\"\".format(path_to_root, node.pk)\n",
    "\n",
    "    if exit_status is not None:\n",
    "        string = '{}<{}> {} [{}]'.format(process_label, pk, process_state, exit_status)\n",
    "    else:\n",
    "        string = '{}<{}> {}'.format(process_label, pk, process_state)\n",
    "\n",
    "    if isinstance(node, WorkChainNode) and node.stepper_state_info:\n",
    "        string += ' [{}]'.format(node.stepper_state_info)\n",
    "\n",
    "    return string"
   ]
  },
  {
   "cell_type": "code",
   "execution_count": null,
   "metadata": {},
   "outputs": [],
   "source": [
    "follower = ProcessFollowerWidget(process, followers=[ProgressBarWidget])\n",
    "follower.follow(detach=True)\n",
    "display(follower)"
   ]
  },
  {
   "cell_type": "markdown",
   "metadata": {},
   "source": [
    "## Call graph."
   ]
  },
  {
   "cell_type": "code",
   "execution_count": null,
   "metadata": {},
   "outputs": [],
   "source": [
    "string = format_call_graph(process, info_fn=calc_info)\n",
    "new_string = string.replace('\\n', '<br/>').replace(' ', '&nbsp;').replace('#space#', ' ')\n",
    "ipw.HTML(new_string)"
   ]
  }
 ],
 "metadata": {
  "kernelspec": {
   "display_name": "Python 3",
   "language": "python",
   "name": "python3"
  },
  "language_info": {
   "codemirror_mode": {
    "name": "ipython",
    "version": 3
   },
   "file_extension": ".py",
   "mimetype": "text/x-python",
   "name": "python",
   "nbconvert_exporter": "python",
   "pygments_lexer": "ipython3",
   "version": "3.7.4"
  }
 },
 "nbformat": 4,
 "nbformat_minor": 4
}
