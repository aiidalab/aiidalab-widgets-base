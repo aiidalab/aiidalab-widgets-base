{
 "cells": [
  {
   "cell_type": "code",
   "execution_count": null,
   "metadata": {},
   "outputs": [],
   "source": [
    "%%javascript\n",
    "\n",
    "IPython.OutputArea.prototype._should_scroll = function(lines) {\n",
    "    return false;\n",
    "}"
   ]
  },
  {
   "cell_type": "code",
   "execution_count": null,
   "metadata": {},
   "outputs": [],
   "source": [
    "%aiida\n",
    "import ipywidgets as ipw\n",
    "from IPython.display import clear_output\n",
    "from aiida.cmdline.utils.ascii_vis import format_call_graph\n",
    "import urllib.parse as urlparse\n",
    "from aiidalab_widgets_base import ProcessFollowerWidget, ProgressBarWidget, ProcessReportWidget\n",
    "from aiidalab_widgets_base import ProcessInputsWidget, ProcessOutputsWidget\n",
    "from aiidalab_widgets_base import viewer"
   ]
  },
  {
   "cell_type": "code",
   "execution_count": null,
   "metadata": {},
   "outputs": [],
   "source": [
    "url = urlparse.urlsplit(jupyter_notebook_url)\n",
    "pk = urlparse.parse_qs(url.query)['id'][0]\n",
    "process = load_node(pk)"
   ]
  },
  {
   "cell_type": "markdown",
   "metadata": {},
   "source": [
    "## Process inputs."
   ]
  },
  {
   "cell_type": "code",
   "execution_count": null,
   "metadata": {},
   "outputs": [],
   "source": [
    "display(ProcessInputsWidget(process))"
   ]
  },
  {
   "cell_type": "markdown",
   "metadata": {},
   "source": [
    "## Process outputs."
   ]
  },
  {
   "cell_type": "code",
   "execution_count": null,
   "metadata": {},
   "outputs": [],
   "source": [
    "display(ProcessOutputsWidget(process))"
   ]
  },
  {
   "cell_type": "code",
   "execution_count": null,
   "metadata": {},
   "outputs": [],
   "source": [
    "def calc_info(node):\n",
    "    \"\"\"Return a string with the summary of the state of a CalculationNode.\"\"\"\n",
    "    from aiida.orm import ProcessNode, WorkChainNode\n",
    "\n",
    "    if not isinstance(node, ProcessNode):\n",
    "        raise TypeError('Unknown type: {}'.format(type(node)))\n",
    "\n",
    "    process_label = node.process_label\n",
    "    process_state = node.process_state.value.capitalize()\n",
    "    exit_status = node.exit_status\n",
    "    path_to_root = '../'\n",
    "    pk = \"\"\"<a#space#href={0}aiidalab-widgets-base/process.ipynb?id={1}#space#target=\"_blank\">{1}</a>\"\"\".format(path_to_root, node.pk)\n",
    "\n",
    "    if exit_status is not None:\n",
    "        string = '{}<{}> {} [{}]'.format(process_label, pk, process_state, exit_status)\n",
    "    else:\n",
    "        string = '{}<{}> {}'.format(process_label, pk, process_state)\n",
    "\n",
    "    if isinstance(node, WorkChainNode) and node.stepper_state_info:\n",
    "        string += ' [{}]'.format(node.stepper_state_info)\n",
    "\n",
    "    return string"
   ]
  },
  {
   "cell_type": "code",
   "execution_count": null,
   "metadata": {},
   "outputs": [],
   "source": [
    "follower = ProcessFollowerWidget(process, followers=[ProgressBarWidget, ProcessReportWidget], update_interval=2)\n",
    "follower.follow(detach=True)\n",
    "display(follower)"
   ]
  },
  {
   "cell_type": "markdown",
   "metadata": {},
   "source": [
    "## Call graph."
   ]
  },
  {
   "cell_type": "code",
   "execution_count": null,
   "metadata": {},
   "outputs": [],
   "source": [
    "string = format_call_graph(process, info_fn=calc_info)\n",
    "new_string = string.replace('\\n', '<br/>').replace(' ', '&nbsp;').replace('#space#', ' ')\n",
    "ipw.HTML(new_string)"
   ]
  }
 ],
 "metadata": {
  "kernelspec": {
   "display_name": "Python 3",
   "language": "python",
   "name": "python3"
  },
  "language_info": {
   "codemirror_mode": {
    "name": "ipython",
    "version": 3
   },
   "file_extension": ".py",
   "mimetype": "text/x-python",
   "name": "python",
   "nbconvert_exporter": "python",
   "pygments_lexer": "ipython3",
   "version": "3.7.4"
  }
 },
 "nbformat": 4,
 "nbformat_minor": 4
}
