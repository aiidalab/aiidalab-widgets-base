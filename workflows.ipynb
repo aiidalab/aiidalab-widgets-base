{
 "cells": [
  {
   "cell_type": "code",
   "execution_count": null,
   "metadata": {
    "scrolled": false
   },
   "outputs": [],
   "source": [
    "from aiida import load_dbenv, is_dbenv_loaded\n",
    "from aiida.backends import settings\n",
    "if not is_dbenv_loaded():\n",
    "    load_dbenv(profile=settings.AIIDADB_PROFILE)\n",
    "\n",
    "from aiida.orm.data.base import Int\n",
    "from aiida.work.workchain import WorkChain\n",
    "\n",
    "class AdditionWorkChain(WorkChain):\n",
    "    \"\"\"Example WorkChain\"\"\"\n",
    "\n",
    "    @classmethod\n",
    "    def define(cls, spec):\n",
    "        super(AdditionWorkChain, cls).define(spec)\n",
    "        spec.input('a', valid_type=Int)\n",
    "        spec.input('b', valid_type=Int)\n",
    "        spec.outline(\n",
    "            cls.add,\n",
    "        )\n",
    "        spec.output('result', valid_type=Int)\n",
    "\n",
    "    def add(self):\n",
    "        self.ctx.sum = self.inputs.a + self.inputs.b\n",
    "        self.out('result', Int(self.ctx.product))\n",
    "    \n",
    "    @classmethod\n",
    "    def validate(cls, inputs):\n",
    "        # Could also use cls.get_inputs_template().keys()\n",
    "        if set(inputs.keys()) == set(['a', 'b']):\n",
    "            return True\n",
    "        return False"
   ]
  },
  {
   "cell_type": "code",
   "execution_count": null,
   "metadata": {},
   "outputs": [],
   "source": [
    "from aiidalab_widgets_base.workflows import SubmitWorkChainWidget\n",
    "\n",
    "widget = SubmitWorkChainWidget(workchain=AdditionWorkChain, validate_fn=AdditionWorkChain.validate)\n",
    "display(widget)"
   ]
  },
  {
   "cell_type": "code",
   "execution_count": null,
   "metadata": {},
   "outputs": [],
   "source": [
    "# Setting up inputs\n",
    "widget.inputs={'a': Int(0)}  # does not validate, submit button remains grayed out"
   ]
  },
  {
   "cell_type": "code",
   "execution_count": null,
   "metadata": {},
   "outputs": [],
   "source": [
    "# Completing inputs\n",
    "widget.inputs={'a': Int(1), 'b': Int(2)}  # validates, submit button active"
   ]
  }
 ],
 "metadata": {
  "kernelspec": {
   "display_name": "Python 2",
   "language": "python",
   "name": "python2"
  },
  "language_info": {
   "codemirror_mode": {
    "name": "ipython",
    "version": 2
   },
   "file_extension": ".py",
   "mimetype": "text/x-python",
   "name": "python",
   "nbconvert_exporter": "python",
   "pygments_lexer": "ipython2",
   "version": "2.7.15rc1"
  }
 },
 "nbformat": 4,
 "nbformat_minor": 2
}
