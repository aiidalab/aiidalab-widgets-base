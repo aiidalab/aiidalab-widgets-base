{
 "cells": [
  {
   "cell_type": "markdown",
   "metadata": {},
   "source": [
    "## Step 1: Query [Crystallographic Open Database](http://www.crystallography.net)"
   ]
  },
  {
   "cell_type": "markdown",
   "metadata": {},
   "source": [
    "For the queries please adhere to the Hill notation:\n",
    "    \n",
    "    Number of carbon atoms in a molecule is indicated first, the number of hydrogen atoms next, \n",
    "    and then the number of all other chemical elements subsequently, in alphabetical order of the\n",
    "    chemical symbols. When the formula contains no carbon, all the elements, including hydrogen, \n",
    "    are listed alphabetically."
   ]
  },
  {
   "cell_type": "code",
   "execution_count": null,
   "metadata": {},
   "outputs": [],
   "source": [
    "from __future__ import print_function\n",
    "\n",
    "from aiida import load_dbenv, is_dbenv_loaded\n",
    "from aiida.backends import settings\n",
    "if not is_dbenv_loaded():\n",
    "    load_dbenv(profile=settings.AIIDADB_PROFILE)\n",
    "\n",
    "from aiida.orm.querybuilder import QueryBuilder\n",
    "from aiida.orm.data.structure import StructureData\n",
    "from aiida.orm.calculation import Calculation\n",
    "\n",
    "from aiida.tools.dbimporters.plugins.cod import CodDbImporter\n",
    "\n",
    "import ase.io\n",
    "import numpy as np\n",
    "import ipywidgets as ipw\n",
    "from base64 import b64decode\n",
    "from IPython.display import display, clear_output, Image, HTML\n",
    "from fileupload import FileUploadWidget\n",
    "\n",
    "import nglview"
   ]
  },
  {
   "cell_type": "code",
   "execution_count": null,
   "metadata": {},
   "outputs": [],
   "source": [
    "atoms = None\n",
    "structures = [(\"select structure\",{\"status\":False})]\n",
    "\n",
    "layout = ipw.Layout(width=\"400px\")\n",
    "style = {\"description_width\":\"150px\"}\n",
    "\n",
    "viewer = nglview.NGLWidget()\n",
    "clear_output()"
   ]
  },
  {
   "cell_type": "code",
   "execution_count": null,
   "metadata": {},
   "outputs": [],
   "source": [
    "def query(idn=None,formula=None):\n",
    "    importer = CodDbImporter()\n",
    "    if idn is not None:\n",
    "        return importer.query(id=idn)\n",
    "    elif formula is not None:\n",
    "        return importer.query(formula=formula)\n",
    "        \n",
    "\n",
    "def on_click_query(b):\n",
    "    global inp_elements, structures\n",
    "    structures = [(\"select structure\",{\"status\":False})]\n",
    "    idn = None\n",
    "    formula = None\n",
    "    try: \n",
    "        idn = int(inp_elements.value)\n",
    "    except:\n",
    "        formula = str(inp_elements.value)\n",
    "    \n",
    "    count = 0\n",
    "    query_message.value = \"Quering the database ... \"\n",
    "    for entry in query(idn=idn, formula=formula):\n",
    "        try:\n",
    "            entry_cif = entry.get_cif_node()\n",
    "            formula = entry_cif.get_ase().get_chemical_formula()\n",
    "        except:\n",
    "            continue\n",
    "        url = entry.source['uri']\n",
    "        idn = entry.source['id']\n",
    "        entry_name = \"{} (id: {})\".format(formula, idn)\n",
    "        entry_add = (entry_name,\n",
    "                        {\n",
    "                            \"status\": True,\n",
    "                            \"cif\": entry_cif,\n",
    "                            \"url\": url,\n",
    "                            \"id\": idn,\n",
    "                        }\n",
    "                    )\n",
    "        structures.append(entry_add)\n",
    "        count += 1\n",
    "    \n",
    "    query_message.value = \"Quering the database ... %d structures found\" % count\n",
    "    drop_structure.options = structures\n",
    "    if len(structures) > 1:\n",
    "        drop_structure.value = structures[1][1]    "
   ]
  },
  {
   "cell_type": "code",
   "execution_count": null,
   "metadata": {},
   "outputs": [],
   "source": [
    "inp_elements = ipw.Text(description=\"\", value=\"\", placeholder='e.g.: Ni Ti or id number', layout=layout, style=style)\n",
    "btn_query = ipw.Button(description='Query in CoD')\n",
    "btn_query.on_click(on_click_query)\n",
    "query_message = ipw.HTML(\"Waiting for input...\")\n",
    "\n",
    "display(ipw.HBox([btn_query, inp_elements]), query_message)\n"
   ]
  },
  {
   "cell_type": "markdown",
   "metadata": {},
   "source": [
    "## Step 2: Select Structure"
   ]
  },
  {
   "cell_type": "code",
   "execution_count": null,
   "metadata": {},
   "outputs": [],
   "source": [
    "def refresh_structure_view():\n",
    "    global viewer, atoms\n",
    "    if hasattr(viewer, \"component_0\"):\n",
    "        viewer.clear_representations()\n",
    "        viewer.component_0.remove_ball_and_stick()\n",
    "        viewer.component_0.remove_ball_and_stick()\n",
    "        viewer.component_0.remove_ball_and_stick()\n",
    "        viewer.component_0.remove_unitcell()\n",
    "        cid = viewer.component_0.id\n",
    "        viewer.remove_component(cid)\n",
    "\n",
    "    viewer.add_component(nglview.ASEStructure(atoms.get_ase())) # adds ball+stick\n",
    "    viewer.add_unitcell()\n",
    "    viewer.center()"
   ]
  },
  {
   "cell_type": "code",
   "execution_count": null,
   "metadata": {},
   "outputs": [],
   "source": [
    "def on_change(c):\n",
    "    global atoms\n",
    "    indx = c['owner'].index\n",
    "    new_element = c['new']\n",
    "    if new_element['status'] is False:\n",
    "        return\n",
    "    atoms = new_element['cif']\n",
    "    formula = atoms.get_ase().get_chemical_formula()\n",
    "    #print (indx, atoms)\n",
    "    #formula = atoms.get_chemical_formula()\n",
    "    \n",
    "    # search for existing structures\n",
    "    qb = QueryBuilder()\n",
    "    qb.append(StructureData)\n",
    "    qb.append(Calculation, filters={'extras.formula':formula}, descendant_of=StructureData)\n",
    "    qb.order_by({Calculation:{'ctime':'desc'}})\n",
    "    for n in qb.iterall():\n",
    "        calc = n[0]\n",
    "        print(\"Found existing calculation: PK=%d | %s\"%(calc.pk, calc.get_extra(\"structure_description\")))\n",
    "        thumbnail = b64decode(calc.get_extra(\"thumbnail\"))\n",
    "        display(Image(data=thumbnail))\n",
    "    struct_url = new_element['url'].split('.cif')[0]+'.html'\n",
    "    link.value='<a href=\"{}\" target=\"_blank\">COD entry {}</a>'.format(struct_url, new_element['id'])\n",
    "    refresh_structure_view()\n",
    "\n",
    "\n",
    "    \n",
    "drop_structure = ipw.Dropdown(description=\"\", options=structures, style=style, layout=layout )\n",
    "drop_structure.observe(on_change, names='value')\n",
    "link = ipw.HTML(\"Link to the web-page will appear here\")\n",
    "display(drop_structure, link, ipw.VBox([viewer]))"
   ]
  },
  {
   "cell_type": "markdown",
   "metadata": {},
   "source": [
    "## Step 3: Store in AiiDA Database"
   ]
  },
  {
   "cell_type": "code",
   "execution_count": null,
   "metadata": {},
   "outputs": [],
   "source": [
    "def on_click_store(b):\n",
    "    global atoms\n",
    "    with store_out:\n",
    "        clear_output()\n",
    "        if atoms is None:\n",
    "            print (\"Specify a structure first!\")\n",
    "            return\n",
    "        #AiiDA requires structures to have cell\n",
    "#       if np.all(atoms.cell == 0.0):\n",
    "#           atoms.center(vacuum=0.1)\n",
    "        if data_format.value is 'CifData':\n",
    "            s=atoms.copy()\n",
    "        elif data_format.value is 'StructureData':\n",
    "            s = StructureData(ase=atoms.get_ase())\n",
    "            # ensure that tags got correctly translated into kinds \n",
    "            for t1, k in zip(atoms.get_ase().get_tags(), s.get_site_kindnames()):\n",
    "                t2 = int(k[-1]) if k[-1].isnumeric() else 0\n",
    "                assert t1==t2\n",
    "            s.description = inp_descr.value\n",
    "        \n",
    "        s.store()\n",
    "        print(\"Stored in AiiDA: \"+repr(s))\n",
    "\n",
    "inp_descr = ipw.Text(placeholder=\"Description (optional)\")   \n",
    "btn_store = ipw.Button(description='Store in AiiDA')\n",
    "btn_store.on_click(on_click_store)\n",
    "data_format = ipw.RadioButtons(\n",
    "    options=['CifData', 'StructureData'],\n",
    "#     value='pineapple',\n",
    "    description='Data type:',\n",
    "    disabled=False\n",
    ")\n",
    "\n",
    "\n",
    "store_out = ipw.Output()\n",
    "display(data_format, ipw.HBox([btn_store, inp_descr]), store_out)"
   ]
  }
 ],
 "metadata": {
  "kernelspec": {
   "display_name": "Python 2",
   "language": "python",
   "name": "python2"
  },
  "language_info": {
   "codemirror_mode": {
    "name": "ipython",
    "version": 2
   },
   "file_extension": ".py",
   "mimetype": "text/x-python",
   "name": "python",
   "nbconvert_exporter": "python",
   "pygments_lexer": "ipython2",
   "version": "2.7.15rc1"
  }
 },
 "nbformat": 4,
 "nbformat_minor": 2
}
