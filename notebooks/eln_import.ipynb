{
 "cells": [
  {
   "cell_type": "markdown",
   "id": "0",
   "metadata": {},
   "source": [
    "# Import from ELN\n",
    "\n",
    "Importing data from an electronic laboratory notebook"
   ]
  },
  {
   "cell_type": "code",
   "execution_count": null,
   "id": "1",
   "metadata": {},
   "outputs": [],
   "source": [
    "%%javascript\n",
    "IPython.OutputArea.prototype._should_scroll = function(lines) {\n",
    "    return false;\n",
    "}"
   ]
  },
  {
   "cell_type": "code",
   "execution_count": null,
   "id": "2",
   "metadata": {},
   "outputs": [],
   "source": [
    "from aiida import load_profile\n",
    "\n",
    "load_profile();"
   ]
  },
  {
   "cell_type": "code",
   "execution_count": null,
   "id": "3",
   "metadata": {},
   "outputs": [],
   "source": [
    "import json\n",
    "import os\n",
    "import urllib.parse as urlparse\n",
    "\n",
    "import traitlets as tr\n",
    "from pyld import jsonld\n",
    "\n",
    "import aiidalab_widgets_base as awb"
   ]
  },
  {
   "cell_type": "code",
   "execution_count": null,
   "id": "4",
   "metadata": {},
   "outputs": [],
   "source": [
    "# sys.path.append(os.path.dirname(\"/home/jovyan/aiida-openbis/Notebooks/Metadata_Schemas_LinkML/\"))\n",
    "# from materialMLinfo import Molecule, slots\n",
    "# def extract_molecule_data_with_linkml(molecule_jsonld):\n",
    "#     expanded = jsonld.expand(molecule_jsonld)\n",
    "#     molecule_data = {}\n",
    "#     for obj in jsonld_object:\n",
    "#         if '@type' in obj and str(Molecule.class_class_uri) in obj['@type']:\n",
    "#             molecule_data['name'] = obj.get(str(slots.name.uri), [None])[0]['@value']\n",
    "#             molecule_data['smiles'] = obj.get(str(slots.smiles.uri), [None])[0]['@value']\n",
    "#     return molecule_data"
   ]
  },
  {
   "cell_type": "code",
   "execution_count": null,
   "id": "5",
   "metadata": {},
   "outputs": [],
   "source": [
    "# Extract data from the converted JSON-LD\n",
    "def extract_molecule_data(jsonld_object, context):  # noqa: ARG001\n",
    "    expanded = jsonld.expand(molecule_jsonld)\n",
    "    compacted = jsonld.compact(expanded, context)\n",
    "    return {\"name\": compacted[\"name\"], \"smiles\": compacted[\"smiles\"]}\n",
    "\n",
    "\n",
    "def read_json(filepath: str) -> dict:\n",
    "    return json.load(open(filepath))\n",
    "\n",
    "\n",
    "url = urlparse.urlsplit(jupyter_notebook_url)  # noqa: F821\n",
    "parsed_url = urlparse.parse_qs(url.query)\n",
    "params = {key: value[0] for key, value in parsed_url.items()}\n",
    "molecule_jsonld = json.loads(params[\"molecule_info\"])\n",
    "\n",
    "molecule_info_valid = False\n",
    "\n",
    "jsonld_context_filename = os.path.join(\n",
    "    os.sep,\n",
    "    \"home\",\n",
    "    \"jovyan\",\n",
    "    \"aiida-openbis\",\n",
    "    \"Notebooks\",\n",
    "    \"Metadata_Schemas_LinkML\",\n",
    "    \"materialMLinfoContext.jsonld\",\n",
    ")\n",
    "\n",
    "\n",
    "aiida_context = read_json(jsonld_context_filename)\n",
    "\n",
    "try:\n",
    "    molecule_data = extract_molecule_data(molecule_jsonld, aiida_context)\n",
    "    params[\"molecule_info\"] = json.dumps(molecule_data)\n",
    "    eln_widget = awb.ElnImportWidget(path_to_root=\"../../\", **params)\n",
    "    molecule_info_valid = True\n",
    "except ValueError as e:\n",
    "    print(e)"
   ]
  },
  {
   "cell_type": "code",
   "execution_count": null,
   "id": "6",
   "metadata": {},
   "outputs": [],
   "source": [
    "if molecule_info_valid:\n",
    "    object_displayed = awb.AiidaNodeViewWidget()\n",
    "    open_in_app = awb.OpenAiidaNodeInAppWidget(path_to_root=\"../../\")\n",
    "\n",
    "    _ = tr.dlink((eln_widget, \"node\"), (object_displayed, \"node\"))\n",
    "    _ = tr.dlink((eln_widget, \"node\"), (open_in_app, \"node\"))"
   ]
  },
  {
   "cell_type": "markdown",
   "id": "7",
   "metadata": {},
   "source": [
    "## Selected object:"
   ]
  },
  {
   "cell_type": "code",
   "execution_count": null,
   "id": "8",
   "metadata": {},
   "outputs": [],
   "source": [
    "if molecule_info_valid:\n",
    "    display(object_displayed)\n",
    "    display(eln_widget)"
   ]
  },
  {
   "cell_type": "markdown",
   "id": "9",
   "metadata": {},
   "source": [
    "## What's next?"
   ]
  },
  {
   "cell_type": "code",
   "execution_count": null,
   "id": "10",
   "metadata": {},
   "outputs": [],
   "source": [
    "if molecule_info_valid:\n",
    "    display(open_in_app)"
   ]
  }
 ],
 "metadata": {
  "kernelspec": {
   "display_name": "Python 3 (ipykernel)",
   "language": "python",
   "name": "python3"
  },
  "language_info": {
   "codemirror_mode": {
    "name": "ipython",
    "version": 3
   },
   "file_extension": ".py",
   "mimetype": "text/x-python",
   "name": "python",
   "nbconvert_exporter": "python",
   "pygments_lexer": "ipython3",
   "version": "3.9.13"
  }
 },
 "nbformat": 4,
 "nbformat_minor": 5
}
