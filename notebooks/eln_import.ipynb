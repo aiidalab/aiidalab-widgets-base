{
 "cells": [
  {
   "cell_type": "markdown",
   "id": "af4d4a45",
   "metadata": {},
   "source": [
    "# Import from ELN\n",
    "\n",
    "Importing data from an electronic laboratory notebook"
   ]
  },
  {
   "cell_type": "code",
   "execution_count": null,
   "id": "annual-documentary",
   "metadata": {},
   "outputs": [],
   "source": [
    "%%javascript\n",
    "IPython.OutputArea.prototype._should_scroll = function(lines) {\n",
    "    return false;\n",
    "}"
   ]
  },
  {
   "cell_type": "code",
   "execution_count": null,
   "id": "celtic-norwegian",
   "metadata": {},
   "outputs": [],
   "source": [
    "from aiidalab_widgets_base import AiidaNodeViewWidget, OpenAiidaNodeInAppWidget, ElnImportWidget\n",
    "import urllib.parse as urlparse\n",
    "from aiidalab_widgets_base import viewer\n",
    "from traitlets import dlink"
   ]
  },
  {
   "cell_type": "code",
   "execution_count": null,
   "id": "through-delay",
   "metadata": {},
   "outputs": [],
   "source": [
    "url = urlparse.urlsplit(jupyter_notebook_url)\n",
    "parsed_url = urlparse.parse_qs(url.query)\n",
    "params = {key:value[0] for key, value in parsed_url.items()}\n",
    "eln_widget = ElnImportWidget(**params)"
   ]
  },
  {
   "cell_type": "code",
   "execution_count": null,
   "id": "worse-elevation",
   "metadata": {},
   "outputs": [],
   "source": [
    "object_displayed = AiidaNodeViewWidget()\n",
    "open_in_app = OpenAiidaNodeInAppWidget()\n",
    "\n",
    "_ = dlink((eln_widget, 'node'), (object_displayed, 'node'))\n",
    "_ = dlink((eln_widget, 'node'), (open_in_app, 'node'))"
   ]
  },
  {
   "cell_type": "markdown",
   "id": "understanding-authority",
   "metadata": {},
   "source": [
    "## Selected object:"
   ]
  },
  {
   "cell_type": "code",
   "execution_count": null,
   "id": "humanitarian-editing",
   "metadata": {},
   "outputs": [],
   "source": [
    "display(object_displayed)\n",
    "display(eln_widget)"
   ]
  },
  {
   "cell_type": "markdown",
   "id": "center-pound",
   "metadata": {},
   "source": [
    "## What's next?"
   ]
  },
  {
   "cell_type": "code",
   "execution_count": null,
   "id": "portable-cyprus",
   "metadata": {},
   "outputs": [],
   "source": [
    "display(open_in_app)"
   ]
  }
 ],
 "metadata": {
  "kernelspec": {
   "display_name": "Python 3 (ipykernel)",
   "language": "python",
   "name": "python3"
  },
  "language_info": {
   "codemirror_mode": {
    "name": "ipython",
    "version": 3
   },
   "file_extension": ".py",
   "mimetype": "text/x-python",
   "name": "python",
   "nbconvert_exporter": "python",
   "pygments_lexer": "ipython3",
   "version": "3.9.7"
  }
 },
 "nbformat": 4,
 "nbformat_minor": 5
}
