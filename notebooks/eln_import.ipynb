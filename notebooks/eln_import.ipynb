{
 "cells": [
  {
   "cell_type": "markdown",
   "id": "0",
   "metadata": {},
   "source": [
    "# Import from ELN\n",
    "\n",
    "Importing data from an electronic laboratory notebook"
   ]
  },
  {
   "cell_type": "code",
   "execution_count": null,
   "id": "1",
   "metadata": {},
   "outputs": [],
   "source": [
    "%%javascript\n",
    "IPython.OutputArea.prototype._should_scroll = function(lines) {\n",
    "    return false;\n",
    "}"
   ]
  },
  {
   "cell_type": "code",
   "execution_count": null,
   "id": "2",
   "metadata": {},
   "outputs": [],
   "source": [
    "from aiida import load_profile\n",
    "\n",
    "load_profile();"
   ]
  },
  {
   "cell_type": "code",
   "execution_count": null,
   "id": "3",
   "metadata": {},
   "outputs": [],
   "source": [
    "from aiidalab_widgets_base import AiidaNodeViewWidget, OpenAiidaNodeInAppWidget, ElnImportWidget\n",
    "import urllib.parse as urlparse\n",
    "from aiidalab_widgets_base import viewer\n",
    "from traitlets import dlink\n",
    "\n",
    "from jsonschema import validate, RefResolver, Draft7Validator, ValidationError\n",
    "import json\n",
    "from pyld import jsonld"
   ]
  },
  {
   "cell_type": "code",
   "execution_count": null,
   "id": "4",
   "metadata": {},
   "outputs": [],
   "source": [
    "def load_json(filepath: str) -> dict:\n",
    "    return json.load(open(filepath, \"r\"))\n",
    "\n",
    "def find_refs(obj, refs=None) -> list[str]:\n",
    "    if refs is None:\n",
    "        refs = []\n",
    "        \n",
    "    if isinstance(obj, dict):\n",
    "        for key, value in obj.items():\n",
    "            if key == '$ref':\n",
    "                refs.append(value[2:])\n",
    "            else:\n",
    "                find_refs(value, refs)\n",
    "    \n",
    "    return refs\n",
    "\n",
    "def find_ref_schemas(schemas_filenames: list[str], refs = None):\n",
    "    if refs is None:\n",
    "        refs = []\n",
    "        \n",
    "    for schema_filename in schemas_filenames:\n",
    "        schema = load_json(f\"/home/jovyan/aiida-openbis/Notebooks/New_Metadata_Schemas/{schema_filename}\")\n",
    "        ref_schemas_filenames = find_refs(schema)\n",
    "        \n",
    "        if schema_filename not in refs:\n",
    "            refs.append(schema_filename)\n",
    "            find_ref_schemas(ref_schemas_filenames, refs)\n",
    "    \n",
    "    return refs\n",
    "\n",
    "def set_up_validator(json_schema_filename):\n",
    "    schemas_filenames = [json_schema_filename]\n",
    "    all_schemas_filenames = find_ref_schemas(schemas_filenames)\n",
    "\n",
    "    first_schema = load_json(f\"/home/jovyan/aiida-openbis/Notebooks/New_Metadata_Schemas/{all_schemas_filenames[0]}\")\n",
    "    resolver = RefResolver(base_uri=\"http://example.com/\", referrer = first_schema)\n",
    "\n",
    "    for referenced_schema_filename in all_schemas_filenames:\n",
    "        referenced_schema = load_json(f\"/home/jovyan/aiida-openbis/Notebooks/New_Metadata_Schemas/{referenced_schema_filename}\")\n",
    "        resolver.store[referenced_schema[\"$id\"]] = referenced_schema\n",
    "\n",
    "    validator = Draft7Validator(first_schema, resolver=resolver)\n",
    "    \n",
    "    return validator\n",
    "\n",
    "# Function to expand context terms\n",
    "def expand_context(base_context):\n",
    "    expanded_context = {}\n",
    "    for key, value in base_context.items():\n",
    "        if isinstance(value, str) and ':' in value:\n",
    "            prefix, suffix = value.split(':', 1)\n",
    "            if prefix in base_context:\n",
    "                expanded_context[key] = base_context[prefix] + suffix\n",
    "            else:\n",
    "                expanded_context[key] = value\n",
    "        else:\n",
    "            expanded_context[key] = value\n",
    "    return expanded_context\n",
    "\n",
    "def replace_keys_recursive(data, old_key, new_key):\n",
    "    if isinstance(data, dict):\n",
    "        for key in list(data.keys()):  # Create a copy of keys to avoid RuntimeError\n",
    "            if key == old_key:\n",
    "                key = new_key\n",
    "                data[new_key] = data.pop(old_key)\n",
    "            replace_keys_recursive(data[key], old_key, new_key)\n",
    "    elif isinstance(data, list):\n",
    "        for item in data:\n",
    "            replace_keys_recursive(item, old_key, new_key)"
   ]
  },
  {
   "cell_type": "code",
   "execution_count": null,
   "id": "5",
   "metadata": {},
   "outputs": [],
   "source": [
    "url = urlparse.urlsplit(jupyter_notebook_url)\n",
    "parsed_url = urlparse.parse_qs(url.query)\n",
    "params = {key:value[0] for key, value in parsed_url.items()}\n",
    "\n",
    "molecule_json = json.loads(params[\"molecule_info\"])\n",
    "\n",
    "molecule_validator = set_up_validator(\"molecule.schema.json\")\n",
    "schema_context = molecule_validator.schema[\"@context\"]\n",
    "schema_context = expand_context(schema_context)\n",
    "json_context = expand_context(molecule_json[\"@context\"])\n",
    "\n",
    "if \"@context\" in molecule_json:\n",
    "    _ = molecule_json.pop(\"@context\")\n",
    "    \n",
    "for key1, value1 in schema_context.items():\n",
    "    for key2, value2 in json_context.items():\n",
    "        if value1 == value2:\n",
    "            replace_keys_recursive(molecule_json, key2, key1)\n",
    "          \n",
    "molecule_info_valid = False\n",
    "\n",
    "try:\n",
    "    molecule_validator.validate(instance = molecule_json)\n",
    "    molecule_info_valid = True\n",
    "    params[\"molecule_info\"] = json.dumps(molecule_json)\n",
    "    eln_widget = ElnImportWidget(path_to_root=\"../../\", **params)\n",
    "except ValidationError as e:\n",
    "    message = e.schema[\"error_msg\"] if \"error_msg\" in e.schema else e.message\n",
    "    print(f'Invalid data: {message}')"
   ]
  },
  {
   "cell_type": "code",
   "execution_count": null,
   "id": "6",
   "metadata": {},
   "outputs": [],
   "source": [
    "if molecule_info_valid:\n",
    "    object_displayed = AiidaNodeViewWidget()\n",
    "    open_in_app = OpenAiidaNodeInAppWidget(path_to_root=\"../../\")\n",
    "\n",
    "    _ = dlink((eln_widget, 'node'), (object_displayed, 'node'))\n",
    "    _ = dlink((eln_widget, 'node'), (open_in_app, 'node'))"
   ]
  },
  {
   "cell_type": "markdown",
   "id": "7",
   "metadata": {},
   "source": [
    "## Selected object:"
   ]
  },
  {
   "cell_type": "code",
   "execution_count": null,
   "id": "8",
   "metadata": {},
   "outputs": [],
   "source": [
    "if molecule_info_valid:\n",
    "    display(object_displayed)\n",
    "    display(eln_widget)"
   ]
  },
  {
   "cell_type": "markdown",
   "id": "9",
   "metadata": {},
   "source": [
    "## What's next?"
   ]
  },
  {
   "cell_type": "code",
   "execution_count": null,
   "id": "10",
   "metadata": {},
   "outputs": [],
   "source": [
    "if molecule_info_valid:\n",
    "    display(open_in_app)"
   ]
  }
 ],
 "metadata": {
  "kernelspec": {
   "display_name": "Python 3 (ipykernel)",
   "language": "python",
   "name": "python3"
  },
  "language_info": {
   "codemirror_mode": {
    "name": "ipython",
    "version": 3
   },
   "file_extension": ".py",
   "mimetype": "text/x-python",
   "name": "python",
   "nbconvert_exporter": "python",
   "pygments_lexer": "ipython3",
   "version": "3.9.13"
  }
 },
 "nbformat": 4,
 "nbformat_minor": 5
}
