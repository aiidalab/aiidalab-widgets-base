{
 "cells": [
  {
   "cell_type": "markdown",
   "id": "cbdc6f33",
   "metadata": {},
   "source": [
    "# Computational resources setup widget"
   ]
  },
  {
   "cell_type": "code",
   "execution_count": null,
   "id": "4013ce60",
   "metadata": {},
   "outputs": [],
   "source": [
    "%%javascript\n",
    "IPython.OutputArea.prototype._should_scroll = function(lines) {\n",
    "    return false;\n",
    "}"
   ]
  },
  {
   "cell_type": "code",
   "execution_count": null,
   "id": "864bd498",
   "metadata": {},
   "outputs": [],
   "source": [
    "from aiida import load_profile\n",
    "\n",
    "load_profile();"
   ]
  },
  {
   "cell_type": "code",
   "execution_count": null,
   "id": "53f49d32",
   "metadata": {},
   "outputs": [],
   "source": [
    "import aiidalab_widgets_base as awb"
   ]
  },
  {
   "cell_type": "code",
   "execution_count": null,
   "id": "56116f88",
   "metadata": {},
   "outputs": [],
   "source": [
    "resources1 = awb.ComputationalResourcesWidget()\n",
    "resources2 = awb.ComputationalResourcesWidget(enable_quick_setup=False)\n",
    "resources3 = awb.ComputationalResourcesWidget(enable_detailed_setup=False)"
   ]
  },
  {
   "cell_type": "code",
   "execution_count": null,
   "id": "b75b6687",
   "metadata": {},
   "outputs": [],
   "source": [
    "display(resources1)\n",
    "display(resources2)\n",
    "display(resources3)"
   ]
  }
 ],
 "metadata": {
  "kernelspec": {
   "display_name": "Python 3 (ipykernel)",
   "language": "python",
   "name": "python3"
  },
  "language_info": {
   "codemirror_mode": {
    "name": "ipython",
    "version": 3
   },
   "file_extension": ".py",
   "mimetype": "text/x-python",
   "name": "python",
   "nbconvert_exporter": "python",
   "pygments_lexer": "ipython3",
   "version": "3.9.13"
  },
  "vscode": {
   "interpreter": {
    "hash": "d4d1e4263499bec80672ea0156c357c1ee493ec2b1c70f0acce89fc37c4a6abe"
   }
  }
 },
 "nbformat": 4,
 "nbformat_minor": 5
}
