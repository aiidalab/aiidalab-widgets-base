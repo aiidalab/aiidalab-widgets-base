{
 "cells": [
  {
   "cell_type": "code",
   "execution_count": 1,
   "id": "4013ce60",
   "metadata": {},
   "outputs": [
    {
     "data": {
      "application/javascript": [
       "IPython.OutputArea.prototype._should_scroll = function(lines) {\n",
       "    return false;\n",
       "}\n"
      ],
      "text/plain": [
       "<IPython.core.display.Javascript object>"
      ]
     },
     "metadata": {},
     "output_type": "display_data"
    }
   ],
   "source": [
    "%%javascript\n",
    "IPython.OutputArea.prototype._should_scroll = function(lines) {\n",
    "    return false;\n",
    "}"
   ]
  },
  {
   "cell_type": "code",
   "execution_count": 2,
   "id": "53f49d32",
   "metadata": {},
   "outputs": [
    {
     "data": {
      "application/vnd.jupyter.widget-view+json": {
       "model_id": "2cf5dc9d5f2645a38bafb0960c49ef8e",
       "version_major": 2,
       "version_minor": 0
      },
      "text/plain": []
     },
     "metadata": {},
     "output_type": "display_data"
    }
   ],
   "source": [
    "import aiidalab_widgets_base as awb"
   ]
  },
  {
   "cell_type": "code",
   "execution_count": 3,
   "id": "56116f88",
   "metadata": {},
   "outputs": [],
   "source": [
    "resources = awb.ComputationalResourcesWidget(input_plugin='quantumespresso.pw')"
   ]
  },
  {
   "cell_type": "code",
   "execution_count": 4,
   "id": "b75b6687",
   "metadata": {},
   "outputs": [
    {
     "data": {
      "application/vnd.jupyter.widget-view+json": {
       "model_id": "3b7acf922b2a4530b976606efd2c688e",
       "version_major": 2,
       "version_minor": 0
      },
      "text/plain": [
       "ComputationalResourcesWidget(children=(HBox(children=(Dropdown(description='Select code:', options={'pw-7.0@lo…"
      ]
     },
     "metadata": {},
     "output_type": "display_data"
    }
   ],
   "source": [
    "display(resources)"
   ]
  }
 ],
 "metadata": {
  "kernelspec": {
   "display_name": "Python 3 (ipykernel)",
   "language": "python",
   "name": "python3"
  },
  "language_info": {
   "codemirror_mode": {
    "name": "ipython",
    "version": 3
   },
   "file_extension": ".py",
   "mimetype": "text/x-python",
   "name": "python",
   "nbconvert_exporter": "python",
   "pygments_lexer": "ipython3",
   "version": "3.9.13"
  }
 },
 "nbformat": 4,
 "nbformat_minor": 5
}
