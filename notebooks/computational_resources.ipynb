{
 "cells": [
  {
   "cell_type": "code",
   "execution_count": null,
   "id": "4013ce60",
   "metadata": {},
   "outputs": [],
   "source": [
    "%%javascript\n",
    "IPython.OutputArea.prototype._should_scroll = function(lines) {\n",
    "    return false;\n",
    "}"
   ]
  },
  {
   "cell_type": "code",
   "execution_count": null,
   "id": "53f49d32",
   "metadata": {},
   "outputs": [],
   "source": [
    "import aiidalab_widgets_base as awb"
   ]
  },
  {
   "cell_type": "code",
   "execution_count": null,
   "id": "56116f88",
   "metadata": {},
   "outputs": [],
   "source": [
    "resources = awb.ComputationalResourcesWidget(input_plugin='quantumespresso.pw')"
   ]
  },
  {
   "cell_type": "code",
   "execution_count": null,
   "id": "b75b6687",
   "metadata": {},
   "outputs": [],
   "source": [
    "display(resources)"
   ]
  }
 ],
 "metadata": {
  "kernelspec": {
   "display_name": "Python 3 (ipykernel)",
   "language": "python",
   "name": "python3"
  },
  "language_info": {
   "codemirror_mode": {
    "name": "ipython",
    "version": 3
   },
   "file_extension": ".py",
   "mimetype": "text/x-python",
   "name": "python",
   "nbconvert_exporter": "python",
   "pygments_lexer": "ipython3",
   "version": "3.9.13"
  }
 },
 "nbformat": 4,
 "nbformat_minor": 5
}
