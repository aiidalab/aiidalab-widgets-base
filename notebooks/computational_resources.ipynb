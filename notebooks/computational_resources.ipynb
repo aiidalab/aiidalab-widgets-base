{
 "cells": [
  {
   "cell_type": "code",
   "execution_count": 1,
   "id": "4013ce60",
   "metadata": {},
   "outputs": [
    {
     "data": {
      "application/javascript": [
       "IPython.OutputArea.prototype._should_scroll = function(lines) {\n",
       "    return false;\n",
       "}\n"
      ],
      "text/plain": [
       "<IPython.core.display.Javascript object>"
      ]
     },
     "metadata": {},
     "output_type": "display_data"
    }
   ],
   "source": [
    "%%javascript\n",
    "IPython.OutputArea.prototype._should_scroll = function(lines) {\n",
    "    return false;\n",
    "}"
   ]
  },
  {
   "cell_type": "code",
   "execution_count": 2,
   "id": "53f49d32",
   "metadata": {},
   "outputs": [
    {
     "data": {
      "application/vnd.jupyter.widget-view+json": {
       "model_id": "1a68907476e64d14933a2a7c9d7bbab4",
       "version_major": 2,
       "version_minor": 0
      },
      "text/plain": []
     },
     "metadata": {},
     "output_type": "display_data"
    }
   ],
   "source": [
    "import aiidalab_widgets_base as awb"
   ]
  },
  {
   "cell_type": "code",
   "execution_count": 3,
   "id": "56116f88",
   "metadata": {},
   "outputs": [],
   "source": [
    "resources1 = awb.ComputationalResourcesWidget()\n",
    "# resources2 = awb.ComputationalResourcesWidget()"
   ]
  },
  {
   "cell_type": "code",
   "execution_count": 4,
   "id": "b75b6687",
   "metadata": {},
   "outputs": [
    {
     "data": {
      "application/vnd.jupyter.widget-view+json": {
       "model_id": "28f16cd4c27e4932b0327e4634623b1e",
       "version_major": 2,
       "version_minor": 0
      },
      "text/plain": [
       "ComputationalResourcesWidget(children=(HBox(children=(Dropdown(description='Select code:', disabled=True, opti…"
      ]
     },
     "metadata": {},
     "output_type": "display_data"
    }
   ],
   "source": [
    "display(resources1)\n",
    "# display(resources2)"
   ]
  },
  {
   "cell_type": "code",
   "execution_count": 9,
   "id": "15b22b09",
   "metadata": {},
   "outputs": [
    {
     "data": {
      "text/plain": [
       "{'setup': {'label': 'daint-hybrid',\n",
       "  'hostname': 'daint.cscs.ch',\n",
       "  'description': 'Piz Daint supercomputer at CSCS Lugano, Switzerland, using the hybrid partition. HyperThreading is off',\n",
       "  'transport': 'core.ssh',\n",
       "  'scheduler': 'core.slurm',\n",
       "  'shebang': '#!/bin/bash -l',\n",
       "  'mpiprocs_per_machine': 12,\n",
       "  'num_cores_per_mpiproc': 1,\n",
       "  'work_dir': '/scratch/snx3000/{username}/aiida/',\n",
       "  'mpirun_command': 'srun -n {tot_num_mpiprocs}',\n",
       "  'prepend_text': '#SBATCH --partition=normal\\n#SBATCH --account=jyu\\n#SBATCH --constraint=gpu\\n#SBATCH --hint=nomultithread\\nexport OMP_NUM_THREADS=$SLURM_CPUS_PER_TASK\\nexport CRAY_CUDA_MPS=1\\nulimit -s unlimited'},\n",
       " 'configure': {'safe_interval': 60,\n",
       "  'proxy_command': 'ssh -q -Y {username}@ela.cscs.ch netcat daint.cscs.ch 22'}}"
      ]
     },
     "execution_count": 9,
     "metadata": {},
     "output_type": "execute_result"
    }
   ],
   "source": [
    "resources1.detailed_setup.aiida_computer_setup.computer_setup"
   ]
  },
  {
   "cell_type": "code",
   "execution_count": 6,
   "id": "b286d587",
   "metadata": {},
   "outputs": [],
   "source": [
    "qs = awb.computational_resources.QuickSetupWidget()"
   ]
  },
  {
   "cell_type": "code",
   "execution_count": 7,
   "id": "47b3bc92",
   "metadata": {},
   "outputs": [
    {
     "data": {
      "application/vnd.jupyter.widget-view+json": {
       "model_id": "1b3490e58521429c89ce6947b5afdb1a",
       "version_major": 2,
       "version_minor": 0
      },
      "text/plain": [
       "QuickSetupWidget(children=(HTML(value='Please select the computer/code from a database to pre-fill the fields …"
      ]
     },
     "metadata": {},
     "output_type": "display_data"
    }
   ],
   "source": [
    "display(qs)"
   ]
  }
 ],
 "metadata": {
  "kernelspec": {
   "display_name": "Python 3 (ipykernel)",
   "language": "python",
   "name": "python3"
  },
  "language_info": {
   "codemirror_mode": {
    "name": "ipython",
    "version": 3
   },
   "file_extension": ".py",
   "mimetype": "text/x-python",
   "name": "python",
   "nbconvert_exporter": "python",
   "pygments_lexer": "ipython3",
   "version": "3.9.13"
  },
  "vscode": {
   "interpreter": {
    "hash": "d4d1e4263499bec80672ea0156c357c1ee493ec2b1c70f0acce89fc37c4a6abe"
   }
  }
 },
 "nbformat": 4,
 "nbformat_minor": 5
}
