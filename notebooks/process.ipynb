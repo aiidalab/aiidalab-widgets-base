{
 "cells": [
  {
   "cell_type": "markdown",
   "metadata": {},
   "source": [
    "# Inspecting AiiDA processes"
   ]
  },
  {
   "cell_type": "code",
   "execution_count": null,
   "metadata": {},
   "outputs": [],
   "source": [
    "%%javascript\n",
    "\n",
    "IPython.OutputArea.prototype._should_scroll = function(lines) {\n",
    "    return false;\n",
    "}"
   ]
  },
  {
   "cell_type": "code",
   "execution_count": null,
   "metadata": {},
   "outputs": [],
   "source": [
    "from aiida import load_profile\n",
    "\n",
    "load_profile();"
   ]
  },
  {
   "cell_type": "code",
   "execution_count": null,
   "metadata": {},
   "outputs": [],
   "source": [
    "import urllib.parse as urlparse\n",
    "\n",
    "from aiida.orm import load_node\n",
    "\n",
    "from aiidalab_widgets_base import (\n",
    "    ProcessCallStackWidget,\n",
    "    ProcessFollowerWidget,\n",
    "    ProcessInputsWidget,\n",
    "    ProcessOutputsWidget,\n",
    "    ProcessReportWidget,\n",
    "    ProgressBarWidget,\n",
    "    RunningCalcJobOutputWidget,\n",
    ")"
   ]
  },
  {
   "cell_type": "code",
   "execution_count": null,
   "metadata": {},
   "outputs": [],
   "source": [
    "url = urlparse.urlsplit(jupyter_notebook_url)  # noqa: F821\n",
    "url_dict = urlparse.parse_qs(url.query)\n",
    "if \"id\" in url_dict:\n",
    "    pk = int(url_dict[\"id\"][0])\n",
    "    process = load_node(pk)\n",
    "else:\n",
    "    process = None"
   ]
  },
  {
   "cell_type": "markdown",
   "metadata": {},
   "source": [
    "## Process inputs."
   ]
  },
  {
   "cell_type": "code",
   "execution_count": null,
   "metadata": {},
   "outputs": [],
   "source": [
    "display(ProcessInputsWidget(process))"
   ]
  },
  {
   "cell_type": "markdown",
   "metadata": {},
   "source": [
    "## Process outputs."
   ]
  },
  {
   "cell_type": "code",
   "execution_count": null,
   "metadata": {},
   "outputs": [],
   "source": [
    "display(ProcessOutputsWidget(process))"
   ]
  },
  {
   "cell_type": "code",
   "execution_count": null,
   "metadata": {},
   "outputs": [],
   "source": [
    "follower = ProcessFollowerWidget(\n",
    "    process,\n",
    "    followers=[\n",
    "        ProgressBarWidget(),\n",
    "        ProcessReportWidget(),\n",
    "        ProcessCallStackWidget(),\n",
    "        RunningCalcJobOutputWidget(),\n",
    "    ],\n",
    "    path_to_root=\"../../\",\n",
    "    update_interval=2,\n",
    ")\n",
    "display(follower)\n",
    "follower.follow(detach=True)"
   ]
  }
 ],
 "metadata": {
  "kernelspec": {
   "display_name": "Python 3 (ipykernel)",
   "language": "python",
   "name": "python3"
  },
  "language_info": {
   "codemirror_mode": {
    "name": "ipython",
    "version": 3
   },
   "file_extension": ".py",
   "mimetype": "text/x-python",
   "name": "python",
   "nbconvert_exporter": "python",
   "pygments_lexer": "ipython3",
   "version": "3.9.13"
  },
  "vscode": {
   "interpreter": {
    "hash": "d4d1e4263499bec80672ea0156c357c1ee493ec2b1c70f0acce89fc37c4a6abe"
   }
  }
 },
 "nbformat": 4,
 "nbformat_minor": 4
}
