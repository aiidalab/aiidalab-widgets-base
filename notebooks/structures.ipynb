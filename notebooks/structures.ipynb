{
 "cells": [
  {
   "cell_type": "markdown",
   "metadata": {},
   "source": [
    "# Structure Upload"
   ]
  },
  {
   "cell_type": "code",
   "execution_count": null,
   "metadata": {},
   "outputs": [],
   "source": [
    "%%javascript\n",
    "\n",
    "IPython.OutputArea.prototype._should_scroll = function(lines) {\n",
    "    return false;\n",
    "}"
   ]
  },
  {
   "cell_type": "code",
   "execution_count": null,
   "metadata": {},
   "outputs": [],
   "source": [
    "from aiida import load_profile\n",
    "\n",
    "load_profile();"
   ]
  },
  {
   "cell_type": "code",
   "execution_count": null,
   "metadata": {},
   "outputs": [],
   "source": [
    "import aiidalab_widgets_base as awb\n",
    "import weas_widget"
   ]
  },
  {
   "cell_type": "code",
   "execution_count": null,
   "metadata": {},
   "outputs": [],
   "source": [
    "guiConfig={\"enabled\": True,\n",
    "           \"components\": {\"atomsControl\": True,\n",
    "                          \"colorControl\": True,\n",
    "                          \"buttons\": True,},\n",
    "           \"buttons\": {\"fullscreen\": True,\n",
    "                       \"download\": True,\n",
    "                       \"measurement\": True,\n",
    "                       }\n",
    "         }\n",
    "viewer = weas_widget.WeasWidget(guiConfig=guiConfig)"
   ]
  },
  {
   "cell_type": "code",
   "execution_count": null,
   "metadata": {},
   "outputs": [],
   "source": [
    "widget = awb.StructureManagerWidget(\n",
    "    importers=[\n",
    "        awb.StructureUploadWidget(title=\"From computer\"),\n",
    "        awb.CodQueryWidget(title=\"COD\"),\n",
    "        awb.OptimadeQueryWidget(title=\"OPTIMADE\"),\n",
    "        awb.StructureBrowserWidget(title=\"AiiDA database\"),\n",
    "        awb.SmilesWidget(title=\"SMILES\"),  # requires OpenBabel!\n",
    "        awb.StructureExamplesWidget(\n",
    "            title=\"From Examples\",\n",
    "            examples=[\n",
    "                (\"Silicon oxide\", \"../miscellaneous/structures/SiO2.xyz\")\n",
    "            ]),\n",
    "    ],\n",
    "    editors = [\n",
    "        awb.BasicStructureEditor(title=\"Basic Editor\"),\n",
    "        awb.BasicCellEditor(title=\"Basic Cell Editor\"),\n",
    "    ],\n",
    "    viewer=viewer,\n",
    ")\n",
    "# widget = StructureUploadWidget()\n",
    "# Enforce node format to be CifData:\n",
    "# widget = StructureManagerWidget(importers = [(\"From computer\", StructureUploadWidget())], node_class=\"CifData\")\n",
    "\n",
    "# Remove 'Store in AiiDA' button\n",
    "# widget = StructureManagerWidget(importers = [(\"From computer\", StructureUploadWidget())], storable=False)\n",
    "display(widget)"
   ]
  },
  {
   "cell_type": "code",
   "execution_count": null,
   "metadata": {},
   "outputs": [],
   "source": [
    "viewer"
   ]
  }
 ],
 "metadata": {
  "kernelspec": {
   "display_name": "Python 3 (ipykernel)",
   "language": "python",
   "name": "python3"
  },
  "language_info": {
   "codemirror_mode": {
    "name": "ipython",
    "version": 3
   },
   "file_extension": ".py",
   "mimetype": "text/x-python",
   "name": "python",
   "nbconvert_exporter": "python",
   "pygments_lexer": "ipython3",
   "version": "3.9.13"
  }
 },
 "nbformat": 4,
 "nbformat_minor": 2
}
