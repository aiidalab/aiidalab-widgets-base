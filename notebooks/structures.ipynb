{
 "cells": [
  {
   "cell_type": "markdown",
   "metadata": {},
   "source": [
    "# Structure Upload"
   ]
  },
  {
   "cell_type": "code",
   "execution_count": null,
   "metadata": {},
   "outputs": [],
   "source": [
    "%%javascript\n",
    "\n",
    "IPython.OutputArea.prototype._should_scroll = function(lines) {\n",
    "    return false;\n",
    "}"
   ]
  },
  {
   "cell_type": "code",
   "execution_count": null,
   "metadata": {},
   "outputs": [],
   "source": [
    "from aiidalab_widgets_base import CodQueryWidget, SmilesWidget, StructureExamplesWidget\n",
    "from aiidalab_widgets_base import StructureBrowserWidget, StructureManagerWidget, StructureUploadWidget\n",
    "from aiidalab_widgets_base import BasicStructureEditor"
   ]
  },
  {
   "cell_type": "code",
   "execution_count": null,
   "metadata": {
    "scrolled": false
   },
   "outputs": [],
   "source": [
    "widget = StructureManagerWidget(\n",
    "    importers=[\n",
    "        StructureUploadWidget(title=\"From computer\"),\n",
    "        CodQueryWidget(title=\"COD\"),\n",
    "        StructureBrowserWidget(title=\"AiiDA database\"),\n",
    "        SmilesWidget(title=\"SMILES\"),  # requires OpenBabel!\n",
    "        StructureExamplesWidget(\n",
    "            title=\"From Examples\",\n",
    "            examples=[\n",
    "                (\"Silicon oxide\", \"miscellaneous/structures/SiO2.xyz\")\n",
    "            ]),\n",
    "    ],\n",
    "    editors = [\n",
    "        BasicStructureEditor(title=\"Basic Editor\"),\n",
    "    ],\n",
    ")\n",
    "# widget = StructureUploadWidget()\n",
    "# Enforce node format to be CifData:\n",
    "# widget = StructureManagerWidget(importers = [(\"From computer\", StructureUploadWidget())], node_class=\"CifData\")\n",
    "\n",
    "# Remove 'Store in AiiDA' button\n",
    "# widget = StructureManagerWidget(importers = [(\"From computer\", StructureUploadWidget())], storable=False)\n",
    "display(widget)"
   ]
  }
 ],
 "metadata": {
  "kernelspec": {
   "display_name": "Python 3 (ipykernel)",
   "language": "python",
   "name": "python3"
  },
  "language_info": {
   "codemirror_mode": {
    "name": "ipython",
    "version": 3
   },
   "file_extension": ".py",
   "mimetype": "text/x-python",
   "name": "python",
   "nbconvert_exporter": "python",
   "pygments_lexer": "ipython3",
   "version": "3.9.7"
  }
 },
 "nbformat": 4,
 "nbformat_minor": 2
}
