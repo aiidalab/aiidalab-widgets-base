{
 "cells": [
  {
   "cell_type": "markdown",
   "metadata": {},
   "source": [
    "# Listing AiiDA processes"
   ]
  },
  {
   "cell_type": "code",
   "execution_count": null,
   "metadata": {},
   "outputs": [],
   "source": [
    "%%javascript\n",
    "\n",
    "IPython.OutputArea.prototype._should_scroll = function(lines) {\n",
    "    return false;\n",
    "}"
   ]
  },
  {
   "cell_type": "code",
   "execution_count": null,
   "metadata": {},
   "outputs": [],
   "source": [
    "from aiida import load_profile\n",
    "\n",
    "load_profile();"
   ]
  },
  {
   "cell_type": "code",
   "execution_count": null,
   "metadata": {},
   "outputs": [],
   "source": [
    "import ipywidgets as ipw\n",
    "from plumpy import ProcessState\n",
    "from traitlets import dlink\n",
    "\n",
    "from aiidalab_widgets_base import ProcessListWidget"
   ]
  },
  {
   "cell_type": "code",
   "execution_count": null,
   "metadata": {},
   "outputs": [],
   "source": [
    "process_list = ProcessListWidget(path_to_root=\"../../\")\n",
    "\n",
    "past_days_widget = ipw.IntText(value=7, description=\"Past days:\")\n",
    "dlink((past_days_widget, \"value\"), (process_list, \"past_days\"))\n",
    "\n",
    "\n",
    "all_days_checkbox = ipw.Checkbox(description=\"All days\", value=False)\n",
    "dlink((all_days_checkbox, \"value\"), (past_days_widget, \"disabled\"))\n",
    "dlink(\n",
    "    (all_days_checkbox, \"value\"),\n",
    "    (process_list, \"past_days\"),\n",
    "    transform=lambda v: -1 if v else past_days_widget.value,\n",
    ")\n",
    "\n",
    "incoming_node_widget = ipw.Text(\n",
    "    description=\"Incoming node:\", style={\"description_width\": \"initial\"}\n",
    ")\n",
    "dlink((incoming_node_widget, \"value\"), (process_list, \"incoming_node\"))\n",
    "\n",
    "\n",
    "outgoing_node_widget = ipw.Text(\n",
    "    description=\"Outgoing node:\", style={\"description_width\": \"initial\"}\n",
    ")\n",
    "dlink((outgoing_node_widget, \"value\"), (process_list, \"outgoing_node\"))\n",
    "\n",
    "\n",
    "available_states = [state.value for state in ProcessState]\n",
    "process_state_widget = ipw.SelectMultiple(\n",
    "    options=available_states,\n",
    "    value=available_states,\n",
    "    description=\"Process State:\",\n",
    "    style={\"description_width\": \"initial\"},\n",
    "    disabled=False,\n",
    ")\n",
    "dlink((process_state_widget, \"value\"), (process_list, \"process_states\"))\n",
    "\n",
    "process_label_widget = ipw.Text(\n",
    "    description=\"Process label:\", style={\"description_width\": \"initial\"}\n",
    ")\n",
    "dlink((process_label_widget, \"value\"), (process_list, \"process_label\"))\n",
    "\n",
    "description_contains_widget = ipw.Text(\n",
    "    description=\"Description contains:\", style={\"description_width\": \"initial\"}\n",
    ")\n",
    "dlink((description_contains_widget, \"value\"), (process_list, \"description_contains\"))\n",
    "\n",
    "display(\n",
    "    ipw.HBox(\n",
    "        [\n",
    "            ipw.VBox([past_days_widget, process_state_widget]),\n",
    "            ipw.VBox(\n",
    "                [\n",
    "                    all_days_checkbox,\n",
    "                    incoming_node_widget,\n",
    "                    outgoing_node_widget,\n",
    "                    process_label_widget,\n",
    "                    description_contains_widget,\n",
    "                ],\n",
    "                layout={\"margin\": \"0px 0px 0px 40px\"},\n",
    "            ),\n",
    "        ]\n",
    "    ),\n",
    "    process_list,\n",
    ")"
   ]
  },
  {
   "cell_type": "code",
   "execution_count": null,
   "metadata": {},
   "outputs": [],
   "source": [
    "process_list.start_autoupdate(update_interval=30)"
   ]
  }
 ],
 "metadata": {
  "kernelspec": {
   "display_name": "Python 3 (ipykernel)",
   "language": "python",
   "name": "python3"
  },
  "language_info": {
   "codemirror_mode": {
    "name": "ipython",
    "version": 3
   },
   "file_extension": ".py",
   "mimetype": "text/x-python",
   "name": "python",
   "nbconvert_exporter": "python",
   "pygments_lexer": "ipython3",
   "version": "3.9.13"
  }
 },
 "nbformat": 4,
 "nbformat_minor": 4
}
