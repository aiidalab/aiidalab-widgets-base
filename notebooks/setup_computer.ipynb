{
 "cells": [
  {
   "cell_type": "markdown",
   "metadata": {},
   "source": [
    "# Setting up a computer in AiiDA "
   ]
  },
  {
   "cell_type": "code",
   "execution_count": null,
   "metadata": {},
   "outputs": [],
   "source": [
    "import urllib.parse as urlparse\n",
    "import ipywidgets as ipw\n",
    "from traitlets import dlink\n",
    "from aiidalab_widgets_base import SshComputerSetup\n",
    "from aiidalab_widgets_base import AiidaComputerSetup\n",
    "from aiidalab_widgets_base import ComputerDatabaseWidget"
   ]
  },
  {
   "cell_type": "code",
   "execution_count": null,
   "metadata": {},
   "outputs": [],
   "source": [
    "# Create dictionary that contains URL arguments.\n",
    "parsed_url = urlparse.parse_qs(urlparse.urlsplit(jupyter_notebook_url).query)\n",
    "url_args = {}\n",
    "for key, value in parsed_url.items():\n",
    "    url_args[key] = '\\n'.join(value) if isinstance(value, (tuple, list)) else value"
   ]
  },
  {
   "cell_type": "markdown",
   "metadata": {},
   "source": [
    "## Step 1: Setup ssh\n",
    "Note: The password is used only to set up the ssh connection and is never stored."
   ]
  },
  {
   "cell_type": "code",
   "execution_count": null,
   "metadata": {},
   "outputs": [],
   "source": [
    "database_connected = False\n",
    "def connect_database(_=None):\n",
    "    global database_connected\n",
    "    if database_connected:\n",
    "        return\n",
    "    # SSH computer setup.\n",
    "    dlink((database, 'hostname'), (sshcomputer, 'hostname'))\n",
    "    dlink((database, 'proxy_hostname'), (sshcomputer, 'proxy_hostname'))\n",
    "\n",
    "    # AiiDA computer setup.\n",
    "    dlink((database, 'label'), (aiidacomputer, 'label'))\n",
    "    dlink((database, 'hostname'), (aiidacomputer, 'hostname'))\n",
    "    dlink((database, 'description'), (aiidacomputer, 'description'))\n",
    "    dlink((database, 'work_dir'), (aiidacomputer, 'work_dir'))\n",
    "    dlink((database, 'mpirun_command'), (aiidacomputer, 'mpirun_command'))\n",
    "    dlink((database, 'mpiprocs_per_machine'), (aiidacomputer, 'mpiprocs_per_machine'))\n",
    "    dlink((database, 'prepend_text'), (aiidacomputer, 'prepend_text'))\n",
    "    dlink((database, 'append_text'), (aiidacomputer, 'append_text'))\n",
    "    dlink((database, 'transport'), (aiidacomputer, 'transport'))\n",
    "    dlink((database, 'scheduler'), (aiidacomputer, 'scheduler'))\n",
    "    dlink((database, 'safe_interval'), (aiidacomputer, 'safe_interval'))\n",
    "\n",
    "    database_connected = True\n",
    "\n",
    "database = ComputerDatabaseWidget()\n",
    "database.update_btn.on_click(connect_database)\n",
    "database_accordion = ipw.Accordion(children=[database], selected_index=None)\n",
    "database_accordion.set_title(0, 'Computer database')\n",
    "display(database_accordion)"
   ]
  },
  {
   "cell_type": "code",
   "execution_count": null,
   "metadata": {
    "scrolled": false
   },
   "outputs": [],
   "source": [
    "sshcomputer = SshComputerSetup(**url_args)\n",
    "display(sshcomputer)"
   ]
  },
  {
   "cell_type": "markdown",
   "metadata": {},
   "source": [
    "## Step 2: Setup & Test AiiDA Computer"
   ]
  },
  {
   "cell_type": "code",
   "execution_count": null,
   "metadata": {},
   "outputs": [],
   "source": [
    "aiidacomputer = AiidaComputerSetup(**url_args)\n",
    "display(aiidacomputer)"
   ]
  }
 ],
 "metadata": {
  "kernelspec": {
   "display_name": "Python 3 (ipykernel)",
   "language": "python",
   "name": "python3"
  },
  "language_info": {
   "codemirror_mode": {
    "name": "ipython",
    "version": 3
   },
   "file_extension": ".py",
   "mimetype": "text/x-python",
   "name": "python",
   "nbconvert_exporter": "python",
   "pygments_lexer": "ipython3",
   "version": "3.9.7"
  }
 },
 "nbformat": 4,
 "nbformat_minor": 2
}
