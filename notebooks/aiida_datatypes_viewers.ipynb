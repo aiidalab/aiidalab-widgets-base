{
 "cells": [
  {
   "cell_type": "markdown",
   "metadata": {},
   "source": [
    "# Displaying AiiDA data types"
   ]
  },
  {
   "cell_type": "code",
   "execution_count": null,
   "metadata": {},
   "outputs": [],
   "source": [
    "import io\n",
    "from os import path\n",
    "from aiida.plugins import DataFactory\n",
    "from aiidalab_widgets_base import viewer"
   ]
  },
  {
   "cell_type": "markdown",
   "metadata": {},
   "source": [
    "## Dict"
   ]
  },
  {
   "cell_type": "code",
   "execution_count": null,
   "metadata": {},
   "outputs": [],
   "source": [
    "Dict = DataFactory('core.dict')\n",
    "p = Dict(dict={\n",
    "    'Parameter'   :'super long string '*4,\n",
    "    'parameter 2' :'value 2',\n",
    "    'parameter 3' : 1,\n",
    "    'parameter 4' : 2,\n",
    "})\n",
    "vwr = viewer(p.store(), downloadable=True)\n",
    "display(vwr)"
   ]
  },
  {
   "cell_type": "code",
   "execution_count": null,
   "metadata": {},
   "outputs": [],
   "source": [
    "# create molecule\n",
    "from ase.build import molecule, bulk\n",
    "m = molecule('H2O')\n",
    "m.center(vacuum=2.0)\n",
    "#\n",
    "# create bulk Pt\n",
    "pt = bulk('Pt', cubic = True)"
   ]
  },
  {
   "cell_type": "markdown",
   "metadata": {},
   "source": [
    "## CifData"
   ]
  },
  {
   "cell_type": "code",
   "execution_count": null,
   "metadata": {},
   "outputs": [],
   "source": [
    "CifData = DataFactory('core.cif')\n",
    "s = CifData(ase=pt)\n",
    "vwr = viewer(s.store(), configuration_tabs=['Selection', 'Appearance', 'Cell', 'Download'])\n",
    "display(vwr)"
   ]
  },
  {
   "cell_type": "markdown",
   "metadata": {},
   "source": [
    "## StructureData"
   ]
  },
  {
   "cell_type": "code",
   "execution_count": null,
   "metadata": {},
   "outputs": [],
   "source": [
    "StructureData = DataFactory('core.structure')\n",
    "s = StructureData(ase=m)\n",
    "vwr = viewer(s.store())\n",
    "display(vwr)"
   ]
  },
  {
   "cell_type": "markdown",
   "metadata": {},
   "source": [
    "## BandsData"
   ]
  },
  {
   "cell_type": "code",
   "execution_count": null,
   "metadata": {},
   "outputs": [],
   "source": [
    "import numpy as np\n",
    "BandsData = DataFactory('core.array.bands')\n",
    "bs = BandsData()\n",
    "kpoints = np.array([[0.    , 0.    , 0.    ], # array shape is 12 * 3\n",
    "       [0.1   , 0.    , 0.1   ],\n",
    "       [0.2   , 0.    , 0.2   ],\n",
    "       [0.3   , 0.    , 0.3   ],\n",
    "       [0.4   , 0.    , 0.4   ],\n",
    "       [0.5   , 0.    , 0.5   ],\n",
    "       [0.5   , 0.    , 0.5   ],\n",
    "       [0.525 , 0.05  , 0.525 ],\n",
    "       [0.55  , 0.1   , 0.55  ],\n",
    "       [0.575 , 0.15  , 0.575 ],\n",
    "       [0.6   , 0.2   , 0.6   ],\n",
    "       [0.625 , 0.25  , 0.625 ]])\n",
    "\n",
    "bands = np.array([\n",
    "    [-5.64024889,  6.66929678,  6.66929678,  6.66929678,  8.91047649], # array shape is 12 * 5, where 12 is the size of the kpoints mesh\n",
    "    [-5.46976726,  5.76113772,  5.97844699,  5.97844699,  8.48186734], # and 5 is the number of states\n",
    "    [-4.93870761,  4.06179965,  4.97235487,  4.97235488,  7.68276008],\n",
    "    [-4.05318686,  2.21579935,  4.18048674,  4.18048675,  7.04145185],\n",
    "    [-2.83974972,  0.37738276,  3.69024464,  3.69024465,  6.75053465],\n",
    "    [-1.34041116, -1.34041115,  3.52500177,  3.52500178,  6.92381041],\n",
    "    [-1.34041116, -1.34041115,  3.52500177,  3.52500178,  6.92381041],\n",
    "    [-1.34599146, -1.31663872,  3.34867603,  3.54390139,  6.93928289],\n",
    "    [-1.36769345, -1.24523403,  2.94149041,  3.6004033 ,  6.98809593],\n",
    "    [-1.42050683, -1.12604118,  2.48497007,  3.69389815,  7.07537154],\n",
    "    [-1.52788845, -0.95900776,  2.09104321,  3.82330632,  7.20537566],\n",
    "    [-1.71354964, -0.74425095,  1.82242466,  3.98697455,  7.37979746]])\n",
    "bs.set_kpoints(kpoints)\n",
    "bs.set_bands(bands)\n",
    "labels = [(0, u'GAMMA'),\n",
    "          (5, u'X'),\n",
    "          (6, u'Z'),\n",
    "          (11, u'U')]\n",
    "bs.labels = labels\n",
    "vwr = viewer(bs.store(), downloadable=True)\n",
    "display(vwr)"
   ]
  },
  {
   "cell_type": "markdown",
   "metadata": {},
   "source": [
    "## FolderData"
   ]
  },
  {
   "cell_type": "code",
   "execution_count": null,
   "metadata": {},
   "outputs": [],
   "source": [
    "FolderData = DataFactory('core.folder')\n",
    "fd = FolderData()\n",
    "with io.StringIO('content of test1 filelike') as fobj:\n",
    "    fd.put_object_from_filelike(fobj, path='test1.txt')\n",
    "with io.StringIO('content of test2 filelike') as fobj:\n",
    "    fd.put_object_from_filelike(fobj, path='test2.txt')\n",
    "with io.StringIO(u'content of test_long file'*1000) as fobj:\n",
    "    fd.put_object_from_filelike(fobj, path='test_long.txt')\n",
    "vwr = viewer(fd.store(), downloadable=True)\n",
    "display(vwr)"
   ]
  },
  {
   "cell_type": "markdown",
   "metadata": {},
   "source": [
    "# Workfunctions and Calcfunctions"
   ]
  },
  {
   "cell_type": "code",
   "execution_count": null,
   "metadata": {},
   "outputs": [],
   "source": [
    "from aiida.workflows.arithmetic.add_multiply import add, add_multiply\n",
    "from aiida.engine import run_get_node\n",
    "from aiida.orm import Int"
   ]
  },
  {
   "cell_type": "code",
   "execution_count": null,
   "metadata": {},
   "outputs": [],
   "source": [
    "result, workfunction = run_get_node(add_multiply, Int(3), Int(4), Int(5))\n",
    "display(viewer(workfunction))"
   ]
  },
  {
   "cell_type": "code",
   "execution_count": null,
   "metadata": {},
   "outputs": [],
   "source": [
    "result, calcfunction = run_get_node(add, Int(3), Int(4))\n",
    "display(viewer(calcfunction))"
   ]
  },
  {
   "cell_type": "code",
   "execution_count": null,
   "metadata": {},
   "outputs": [],
   "source": []
  },
  {
   "cell_type": "code",
   "execution_count": null,
   "metadata": {},
   "outputs": [],
   "source": []
  }
 ],
 "metadata": {
  "kernelspec": {
   "display_name": "Python 3",
   "language": "python",
   "name": "python3"
  },
  "language_info": {
   "codemirror_mode": {
    "name": "ipython",
    "version": 3
   },
   "file_extension": ".py",
   "mimetype": "text/x-python",
   "name": "python",
   "nbconvert_exporter": "python",
   "pygments_lexer": "ipython3",
   "version": "3.9.4"
  }
 },
 "nbformat": 4,
 "nbformat_minor": 2
}
