{
 "cells": [
  {
   "cell_type": "code",
   "execution_count": null,
   "id": "celtic-norwegian",
   "metadata": {},
   "outputs": [],
   "source": [
    "from aiidalab_widgets_base.elns import ElnExportWidget\n",
    "import urllib.parse as urlparse"
   ]
  },
  {
   "cell_type": "code",
   "execution_count": null,
   "id": "through-delay",
   "metadata": {},
   "outputs": [],
   "source": [
    "url = urlparse.urlsplit(jupyter_notebook_url)\n",
    "uuid = urlparse.parse_qs(url.query)['uuid'][0]"
   ]
  },
  {
   "cell_type": "markdown",
   "id": "understanding-authority",
   "metadata": {},
   "source": [
    "# Selected object:"
   ]
  },
  {
   "cell_type": "code",
   "execution_count": null,
   "id": "humanitarian-editing",
   "metadata": {},
   "outputs": [],
   "source": [
    "display(ElnExportWidget(uuid))"
   ]
  }
 ],
 "metadata": {
  "kernelspec": {
   "display_name": "Python 3",
   "language": "python",
   "name": "python3"
  },
  "language_info": {
   "codemirror_mode": {
    "name": "ipython",
    "version": 3
   },
   "file_extension": ".py",
   "mimetype": "text/x-python",
   "name": "python",
   "nbconvert_exporter": "python",
   "pygments_lexer": "ipython3",
   "version": "3.7.4"
  }
 },
 "nbformat": 4,
 "nbformat_minor": 5
}
